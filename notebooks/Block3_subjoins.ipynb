{
 "cells": [
  {
   "cell_type": "code",
   "execution_count": null,
   "id": "0520dbc8",
   "metadata": {},
   "outputs": [],
   "source": [
    "\"\"\"\n",
    "Блок 3. Оптимизация через подзапросы\n",
    "\"\"\"\n",
    "\n",
    "import libs.db_connection\n",
    "\n",
    "# Пример большого количества джоинов\n",
    "sql1 = \"\"\"explain (analyze) \n",
    "SELECT * \n",
    "FROM task31 t1\n",
    "left join task32 t2 on t2.link2 = t1.link1\n",
    "left join task33 t3 on t3.link3 = t2.link2\n",
    "left join task34 t4 on t4.link4 = t2.link2\n",
    "left join task35 t5 on t5.link5 = t1.link1\n",
    "left join task36 t6 on t6.link6 = t1.link1\n",
    "left join task37 t7 on t7.link7 = t2.link2\n",
    "left join task38 t8 on t8.link8 = t2.link2\n",
    "left join task39 t9 on t9.link9 = t2.link2\n",
    "left join task310 t10 on t10.link10 = t1.link1;\"\"\"\n",
    "\n",
    "            \n",
    "libs.db_connection.select_data_dict_with_commit(sql1, [])\n",
    "\n"
   ]
  },
  {
   "cell_type": "code",
   "execution_count": null,
   "id": "2e38f913",
   "metadata": {},
   "outputs": [],
   "source": [
    "# Промежуточная материализация\n",
    "\n",
    "sql1 = \"\"\"create table task3_materialized as \n",
    "select t2.* \n",
    "from task32 t2 \n",
    "left join task33 t3 on t3.link3 = t2.link2\n",
    "left join task34 t4 on t4.link4 = t2.link2\n",
    "left join task37 t7 on t7.link7 = t2.link2\n",
    "left join task38 t8 on t8.link8 = t2.link2\n",
    "left join task39 t9 on t9.link9 = t2.link2;\"\"\"\n",
    "\n",
    "libs.db_connection.execute(sql1)\n",
    "\n",
    "sql1 = \"\"\"explain (analyze) \n",
    "select t2.* \n",
    "from task32 t2 \n",
    "left join task33 t3 on t3.link3 = t2.link2\n",
    "left join task34 t4 on t4.link4 = t2.link2\n",
    "left join task37 t7 on t7.link7 = t2.link2\n",
    "left join task38 t8 on t8.link8 = t2.link2\n",
    "left join task39 t9 on t9.link9 = t2.link2;\"\"\"\n",
    "\n",
    "libs.db_connection.select_data_dict_with_commit(sql1, [])"
   ]
  },
  {
   "cell_type": "code",
   "execution_count": null,
   "id": "a1f77745",
   "metadata": {},
   "outputs": [],
   "source": [
    "# Переписанный запрос\n",
    "sql1 = \"\"\"explain (analyze) \n",
    "SELECT * \n",
    "FROM task31 t1\n",
    "left join task3_materialized t2 on t2.link2 = t1.link1\n",
    "left join task35 t5 on t5.link5 = t1.link1\n",
    "left join task36 t6 on t6.link6 = t1.link1\n",
    "left join task310 t10 on t10.link10 = t1.link1;\"\"\"\n",
    "\n",
    "libs.db_connection.select_data_dict_with_commit(sql1, [])"
   ]
  },
  {
   "cell_type": "code",
   "execution_count": null,
   "id": "3d7ce5fd",
   "metadata": {},
   "outputs": [],
   "source": [
    "# Использование temporary table\n",
    "\n",
    "sql1 = \"\"\"create TEMPORARY table task3_materialized as \n",
    "select t2.* \n",
    "from task32 t2 \n",
    "left join task33 t3 on t3.link3 = t2.link2\n",
    "left join task34 t4 on t4.link4 = t2.link2\n",
    "left join task37 t7 on t7.link7 = t2.link2\n",
    "left join task38 t8 on t8.link8 = t2.link2\n",
    "left join task39 t9 on t9.link9 = t2.link2;\"\"\"\n",
    "\n",
    "libs.db_connection.execute(sql1)\n",
    "\n",
    "# Переписанный запрос\n",
    "sql1 = \"\"\"explain (analyze) \n",
    "SELECT * \n",
    "FROM task31 t1\n",
    "left join task3_materialized t2 on t2.link2 = t1.link1\n",
    "left join task35 t5 on t5.link5 = t1.link1\n",
    "left join task36 t6 on t6.link6 = t1.link1\n",
    "left join task310 t10 on t10.link10 = t1.link1;\"\"\"\n",
    "\n",
    "libs.db_connection.select_data_dict_with_commit(sql1, [])\n"
   ]
  },
  {
   "cell_type": "code",
   "execution_count": null,
   "id": "298f9773",
   "metadata": {},
   "outputs": [],
   "source": [
    "# Задание\n",
    "# Посмотреть запрос и переписать его через промежуточную материализацию\n",
    "\n",
    "\n",
    "sql1 = \"\"\"explain (analyze)\n",
    "SELECT * \n",
    "FROM task35 t5\n",
    "left join task37 t7 on t7.link7 = t5.link5\n",
    "left join task36 t6 on t6.link6 = t7.link7\n",
    ";\"\"\"\n",
    "\n",
    "            \n",
    "libs.db_connection.select_data_dict_with_commit(sql1, [])\n"
   ]
  },
  {
   "cell_type": "code",
   "execution_count": null,
   "id": "4460fe8a",
   "metadata": {},
   "outputs": [],
   "source": [
    "# Результат\n",
    "\n",
    "sql1 = \"\"\"\n",
    "explain (analyze)\n",
    "select *\n",
    "from\n",
    "\"\"\"\n",
    "\n",
    "            \n",
    "libs.db_connection.select_data_dict_with_commit(sql1, [])"
   ]
  }
 ],
 "metadata": {
  "kernelspec": {
   "display_name": "Python 3 (ipykernel)",
   "language": "python",
   "name": "python3"
  },
  "language_info": {
   "codemirror_mode": {
    "name": "ipython",
    "version": 3
   },
   "file_extension": ".py",
   "mimetype": "text/x-python",
   "name": "python",
   "nbconvert_exporter": "python",
   "pygments_lexer": "ipython3",
   "version": "3.9.7"
  }
 },
 "nbformat": 4,
 "nbformat_minor": 5
}
