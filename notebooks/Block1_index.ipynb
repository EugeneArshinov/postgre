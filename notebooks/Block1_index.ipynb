{
 "cells": [
  {
   "cell_type": "code",
   "execution_count": null,
   "id": "27cb823c",
   "metadata": {},
   "outputs": [],
   "source": [
    "\"\"\"\n",
    "Блок 1. Оптимизация с помощью индекса\n",
    "\"\"\"\n",
    "\n",
    "import libs.db_connection\n",
    "\n",
    "# Интересует конкретный пользователь\n",
    "sql1 = \"explain (analyze) select * from block11 where user_id = 5\"\n",
    "\n",
    "            \n",
    "libs.db_connection.select_data_dict_with_commit(sql1, [])"
   ]
  },
  {
   "cell_type": "code",
   "execution_count": null,
   "id": "26ed4a26",
   "metadata": {},
   "outputs": [],
   "source": [
    "# Интересуют события у которых категория < 10\n",
    "sql1 = \"explain (analyze) select * from block11 where category < 10\"\n",
    "\n",
    "            \n",
    "libs.db_connection.select_data_dict_with_commit(sql1, [])"
   ]
  },
  {
   "cell_type": "code",
   "execution_count": null,
   "id": "9cee3f8c",
   "metadata": {},
   "outputs": [],
   "source": [
    "# Создаем индекс\n",
    "sql1 = \"create index block1_user on block11 (user_id)\"\n",
    "\n",
    "            \n",
    "libs.db_connection.execute(sql1)"
   ]
  },
  {
   "cell_type": "code",
   "execution_count": null,
   "id": "0398b515",
   "metadata": {},
   "outputs": [],
   "source": [
    "# Как стало\n",
    "sql1 = \"explain (analyze) select * from block11 where user_id = 5\"\n",
    "\n",
    "            \n",
    "libs.db_connection.select_data_dict_with_commit(sql1, [])"
   ]
  },
  {
   "cell_type": "code",
   "execution_count": null,
   "id": "291ccefa",
   "metadata": {},
   "outputs": [],
   "source": [
    "# А что с категориями ?\n",
    "sql1 = \"explain (analyze) select * from block11 where category < 10\"\n",
    "\n",
    "            \n",
    "libs.db_connection.select_data_dict_with_commit(sql1, [])"
   ]
  },
  {
   "cell_type": "code",
   "execution_count": null,
   "id": "315cda63",
   "metadata": {},
   "outputs": [],
   "source": [
    "# создаем индекс для категорий\n",
    "\n",
    "sql1 = \"create index block1_category on block11 (category)\"\n",
    "\n",
    "            \n",
    "libs.db_connection.execute(sql1)"
   ]
  },
  {
   "cell_type": "code",
   "execution_count": null,
   "id": "c0175c70",
   "metadata": {},
   "outputs": [],
   "source": [
    "# Как теперь работает запрос по категориям\n",
    "\n",
    "sql1 = \"explain (analyze) select * from block11 where category < 10\"\n",
    "\n",
    "            \n",
    "libs.db_connection.select_data_dict_with_commit(sql1, [])"
   ]
  },
  {
   "cell_type": "code",
   "execution_count": null,
   "id": "e47cbb98",
   "metadata": {},
   "outputs": [],
   "source": [
    "# Удаляем индекс для категории\n",
    "\n",
    "sql1 = \"drop index block1_category\"\n",
    "libs.db_connection.execute(sql1)"
   ]
  },
  {
   "cell_type": "code",
   "execution_count": null,
   "id": "704e75bd",
   "metadata": {},
   "outputs": [],
   "source": [
    "# Составной индекс (Multicolumn index)\n",
    "\n",
    "sql1 = \"explain (analyze) select * from block11 where category < 10 and type = 'click'\"\n",
    "            \n",
    "libs.db_connection.select_data_dict_with_commit(sql1, [])"
   ]
  },
  {
   "cell_type": "code",
   "execution_count": null,
   "id": "7b506d16",
   "metadata": {},
   "outputs": [],
   "source": [
    "# Создаем составной индекс для группы и типа события\n",
    "\n",
    "sql1 = \"create index block1_category_type on block11 (category, type)\"\n",
    "            \n",
    "libs.db_connection.execute(sql1)"
   ]
  },
  {
   "cell_type": "code",
   "execution_count": null,
   "id": "6f34b526",
   "metadata": {},
   "outputs": [],
   "source": [
    "# Как теперь работает запрос с фильтром по 2 полям\n",
    "\n",
    "sql1 = \"explain (analyze) select * from block11 where category < 10 and type = 'click'\"\n",
    "\n",
    "            \n",
    "libs.db_connection.select_data_dict_with_commit(sql1, [])"
   ]
  },
  {
   "cell_type": "code",
   "execution_count": null,
   "id": "f716b2c1",
   "metadata": {},
   "outputs": [],
   "source": [
    "# Удаляем составной индекс\n",
    "\n",
    "sql1 = \"drop index block1_category_type\"\n",
    "libs.db_connection.execute(sql1)"
   ]
  },
  {
   "cell_type": "code",
   "execution_count": null,
   "id": "0ba3273c",
   "metadata": {},
   "outputs": [],
   "source": [
    "# Плохая селективность (часть 1)\n",
    "\n",
    "sql1 = \"explain (analyze) select type, count(1) from block11 group by type\"\n",
    "libs.db_connection.select_data_dict_with_commit(sql1, [])\n"
   ]
  },
  {
   "cell_type": "code",
   "execution_count": null,
   "id": "b138287e",
   "metadata": {},
   "outputs": [],
   "source": [
    "# Плохая селективность (часть 2)\n",
    "sql1 = \"create index block1_type on block11 (type)\"\n",
    "libs.db_connection.execute(sql1)"
   ]
  },
  {
   "cell_type": "code",
   "execution_count": null,
   "id": "771cf5f6",
   "metadata": {},
   "outputs": [],
   "source": [
    "# Плохая селективность (часть 3)\n",
    "\n",
    "sql1 = \"explain (analyze) select type, count(1) from block11 group by type\"\n",
    "libs.db_connection.select_data_dict_with_commit(sql1, [])"
   ]
  },
  {
   "cell_type": "code",
   "execution_count": null,
   "id": "eda1dacb",
   "metadata": {},
   "outputs": [],
   "source": [
    "# Задание: Нам нужно загрузить таблицу из источника. \n",
    "# При этом забирать ее будем инкрементально каждый день за прошлые сутки \n",
    "# селект уже есть мы его попробовали, но он что-то тормозит, нужно посмотреть, можно ли его ускорить\n",
    "\n",
    "sql = \"explain (analyze) select * from task1 where dt = '2022-05-19 00:00:00'\"\n",
    "libs.db_connection.select_data_dict_with_commit(sql, [])\n",
    "\n",
    "\n"
   ]
  },
  {
   "cell_type": "code",
   "execution_count": null,
   "id": "ec2cca8a",
   "metadata": {},
   "outputs": [],
   "source": [
    "sql_index = \"...\"\n",
    "libs.db_connection.execute(sql_index)"
   ]
  },
  {
   "cell_type": "code",
   "execution_count": null,
   "id": "628b0e8c",
   "metadata": {},
   "outputs": [],
   "source": [
    "# Как сейчас стало\n",
    "\n",
    "sql = \"explain (analyze) select * from task1 where dt = '2022-05-19 00:00:00'\"\n",
    "libs.db_connection.select_data_dict_with_commit(sql, [])"
   ]
  }
 ],
 "metadata": {
  "kernelspec": {
   "display_name": "Python 3 (ipykernel)",
   "language": "python",
   "name": "python3"
  },
  "language_info": {
   "codemirror_mode": {
    "name": "ipython",
    "version": 3
   },
   "file_extension": ".py",
   "mimetype": "text/x-python",
   "name": "python",
   "nbconvert_exporter": "python",
   "pygments_lexer": "ipython3",
   "version": "3.9.7"
  }
 },
 "nbformat": 4,
 "nbformat_minor": 5
}
