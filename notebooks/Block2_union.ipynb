{
 "cells": [
  {
   "cell_type": "code",
   "execution_count": null,
   "id": "4669a4d3",
   "metadata": {},
   "outputs": [],
   "source": [
    "\"\"\"\n",
    "Блок 2. Оптимизация union\n",
    "\"\"\"\n",
    "\n",
    "import libs.db_connection\n",
    "\n",
    "sql1 = \"\"\"EXPLAIN (ANALYZE, COSTS) \n",
    "select * from block21 t1\n",
    "union\n",
    "select * from block22 t2\"\"\"\n",
    "\n",
    "            \n",
    "libs.db_connection.select_data_dict_with_commit(sql1, [])"
   ]
  },
  {
   "cell_type": "code",
   "execution_count": null,
   "id": "e5cdabee",
   "metadata": {},
   "outputs": [],
   "source": [
    "sql1 = \"\"\"EXPLAIN (ANALYZE, COSTS) \n",
    "select * from block21 t1\n",
    "union all\n",
    "select * from block22 t2\"\"\"\n",
    "\n",
    "            \n",
    "libs.db_connection.select_data_dict_with_commit(sql1, [])"
   ]
  },
  {
   "cell_type": "code",
   "execution_count": null,
   "id": "d976f55f",
   "metadata": {},
   "outputs": [],
   "source": [
    "# Задание: \n",
    "# У нас есть несколько таблиц в которых хранятся номенклатуры. Причем часть номенклатур лежит в одной таблице, \n",
    "# часть во второй и часть в третьей.\n",
    "# Нам нужна витрина, в которой бы лежали все номенклатуры. Требуется написать запрос, формирующий данную витрину.\n",
    "# Перечень таблиц с номенклатурами: nomenclature1 , nomenclature2, nomenclature3 \n",
    "\n",
    "sql = \"\"\"\n",
    "explain (ANALYZE)\n",
    "    select * from\n",
    "\"\"\"\n",
    "\n",
    "libs.db_connection.select_data_dict_with_commit(sql, [])"
   ]
  },
  {
   "cell_type": "code",
   "execution_count": null,
   "id": "c17480dc",
   "metadata": {},
   "outputs": [],
   "source": []
  }
 ],
 "metadata": {
  "kernelspec": {
   "display_name": "Python 3 (ipykernel)",
   "language": "python",
   "name": "python3"
  },
  "language_info": {
   "codemirror_mode": {
    "name": "ipython",
    "version": 3
   },
   "file_extension": ".py",
   "mimetype": "text/x-python",
   "name": "python",
   "nbconvert_exporter": "python",
   "pygments_lexer": "ipython3",
   "version": "3.9.7"
  }
 },
 "nbformat": 4,
 "nbformat_minor": 5
}
